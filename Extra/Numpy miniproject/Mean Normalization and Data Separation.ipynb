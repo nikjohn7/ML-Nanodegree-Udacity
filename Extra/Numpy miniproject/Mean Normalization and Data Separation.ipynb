{
 "cells": [
  {
   "cell_type": "markdown",
   "metadata": {},
   "source": [
    "# Mean Normalization\n",
    "\n",
    "In machine learning we use large amounts of data to train our models. Some machine learning algorithms may require that the data is *normalized* in order to work correctly. The idea of normalization, also known as *feature scaling*, is to ensure that all the data is on a similar scale, *i.e.* that all the data takes on a similar range of values. For example, we might have a dataset that has values between 0 and 5,000. By normalizing the data we can make the range of values be between 0 and 1.\n",
    "\n",
    "In this lab, you will be performing a different kind of feature scaling known as *mean normalization*. Mean normalization will scale the data, but instead of making the values be between 0 and 1, it will distribute the values evenly in some small interval around zero. For example, if we have a dataset that has values between 0 and 5,000, after mean normalization the range of values will be distributed in some small range around 0, for example between -3 to 3. Because the range of values are distributed evenly around zero, this guarantees that the average (mean) of all elements will be zero. Therefore, when you perform *mean normalization* your data will not only be scaled but it will also have an average of zero. \n",
    "\n",
    "# To Do:\n",
    "\n",
    "You will start by importing NumPy and creating a rank 2 ndarray of random integers between 0 and 5,000 (inclusive) with 1000 rows and 20 columns. This array will simulate a dataset with a wide range of values. Fill in the code below"
   ]
  },
  {
   "cell_type": "code",
   "execution_count": 2,
   "metadata": {},
   "outputs": [
    {
     "name": "stdout",
     "output_type": "stream",
     "text": [
      "(1000, 20)\n"
     ]
    }
   ],
   "source": [
    "# import NumPy into Python\n",
    "import numpy as np\n",
    "\n",
    "# Create a 1000 x 20 ndarray with random integers in the half-open interval [0, 5001).\n",
    "X = np.random.randint(0,5001,size=(1000,20))\n",
    "\n",
    "# print the shape of X\n",
    "print(X.shape)"
   ]
  },
  {
   "cell_type": "markdown",
   "metadata": {},
   "source": [
    "Now that you created the array we will mean normalize it. We will perform mean normalization using the following equation:\n",
    "\n",
    "$\\mbox{Norm_Col}_i = \\frac{\\mbox{Col}_i - \\mu_i}{\\sigma_i}$\n",
    "\n",
    "where $\\mbox{Col}_i$ is the $i$th column of $X$, $\\mu_i$ is average of the values in the $i$th column of $X$, and $\\sigma_i$ is the standard deviation of the values in the $i$th column of $X$. In other words, mean normalization is performed by subtracting from each column of $X$ the average of its values, and then by dividing by the standard deviation of its values. In the space below, you will first calculate the average and standard deviation of each column of $X$. "
   ]
  },
  {
   "cell_type": "code",
   "execution_count": 3,
   "metadata": {},
   "outputs": [],
   "source": [
    "# Average of the values in each column of X\n",
    "ave_cols = np.mean(X,axis=0)\n",
    "\n",
    "# Standard Deviation of the values in each column of X\n",
    "std_cols = np.std(X,axis=0)"
   ]
  },
  {
   "cell_type": "markdown",
   "metadata": {},
   "source": [
    "If you have done the above calculations correctly, then `ave_cols` and `std_cols`, should both be vectors with shape `(20,)` since $X$ has 20 columns. You can verify this by filling the code below:"
   ]
  },
  {
   "cell_type": "code",
   "execution_count": 4,
   "metadata": {},
   "outputs": [
    {
     "name": "stdout",
     "output_type": "stream",
     "text": [
      "(20,)\n",
      "(20,)\n"
     ]
    }
   ],
   "source": [
    "# Print the shape of ave_cols\n",
    "print(ave_cols.shape)\n",
    "\n",
    "# Print the shape of std_cols\n",
    "print(std_cols.shape)"
   ]
  },
  {
   "cell_type": "markdown",
   "metadata": {},
   "source": [
    "You can now take advantage of Broadcasting to calculate the mean normalized version of $X$ in just one line of code using the equation above. Fill in the code below"
   ]
  },
  {
   "cell_type": "code",
   "execution_count": 5,
   "metadata": {},
   "outputs": [],
   "source": [
    "# Mean normalize X\n",
    "X_norm = (X-ave_cols)/std_cols"
   ]
  },
  {
   "cell_type": "markdown",
   "metadata": {},
   "source": [
    "If you have performed the mean normalization correctly, then the average of all the elements in $X_{\\tiny{\\mbox{norm}}}$ should be close to zero, and they should be evenly distributed in some small interval around zero. You can verify this by filing the code below:"
   ]
  },
  {
   "cell_type": "code",
   "execution_count": 8,
   "metadata": {},
   "outputs": [
    {
     "name": "stdout",
     "output_type": "stream",
     "text": [
      "-2.45137243837e-17\n",
      "-1.72019686375\n",
      "1.7350239602\n"
     ]
    }
   ],
   "source": [
    "# Print the average of all the values of X_norm\n",
    "print(np.mean(X_norm))\n",
    "\n",
    "# Print the average of the minimum value in each column of X_norm\n",
    "print(np.mean(np.min(X_norm, axis=0)))\n",
    "\n",
    "# Print the average of the maximum value in each column of X_norm\n",
    "print(np.mean(np.max(X_norm, axis=0)))"
   ]
  },
  {
   "cell_type": "markdown",
   "metadata": {},
   "source": [
    "You should note that since $X$ was created using random integers, the above values will vary. \n",
    "\n",
    "# Data Separation\n",
    "\n",
    "After the data has been mean normalized, it is customary in machine learnig to split our dataset into three sets:\n",
    "\n",
    "1. A Training Set\n",
    "2. A Cross Validation Set\n",
    "3. A Test Set\n",
    "\n",
    "The dataset is usually divided such that the Training Set contains 60% of the data, the Cross Validation Set contains 20% of the data, and the Test Set contains 20% of the data. \n",
    "\n",
    "In this part of the lab you will separate `X_norm` into a Training Set, Cross Validation Set, and a Test Set. Each data set will contain rows of `X_norm` chosen at random, making sure that we don't pick the same row twice. This will guarantee that all the rows of `X_norm` are chosen and randomly distributed among the three new sets.\n",
    "\n",
    "You will start by creating a rank 1 ndarray that contains a random permutation of the row indices of `X_norm`. You can do this by using the `np.random.permutation()` function. The `np.random.permutation(N)` function creates a random permutation of integers from 0 to `N - 1`. Let's see an example:"
   ]
  },
  {
   "cell_type": "code",
   "execution_count": 9,
   "metadata": {},
   "outputs": [
    {
     "data": {
      "text/plain": [
       "array([4, 0, 1, 2, 3])"
      ]
     },
     "execution_count": 9,
     "metadata": {},
     "output_type": "execute_result"
    }
   ],
   "source": [
    "# We create a random permutation of integers 0 to 4\n",
    "np.random.permutation(5)"
   ]
  },
  {
   "cell_type": "markdown",
   "metadata": {},
   "source": [
    "# To Do\n",
    "\n",
    "In the space below create a rank 1 ndarray that contains a random permutation of the row indices of `X_norm`. You can do this in one line of code by extracting the number of rows of `X_norm` using the `shape` attribute and then passing it to the  `np.random.permutation()` function. Remember the `shape` attribute returns a tuple with two numbers in the form `(rows,columns)`."
   ]
  },
  {
   "cell_type": "code",
   "execution_count": 11,
   "metadata": {},
   "outputs": [
    {
     "name": "stdout",
     "output_type": "stream",
     "text": [
      "[ 22  58 942 238 728 128 798 349 556 454 440 417 664 421 577 472 724 756\n",
      " 747  75 749 722 581 973 449 182 448 764  69 739  43 820 485 352 873 427\n",
      "  33   6 915 578 542 925 377 622 787 298 744 409 462 470 625 151  79 321\n",
      "  48 599 131 272 294 609 111 653 497 207 783 345 308 115 911 490 340 988\n",
      " 952 260 880 299 107 701 203 322 407 329  40 868 950 656 503 287 894 723\n",
      " 218 521 828 678 244 933 647 540 306  45 165 411  44 169 957 313 959 471\n",
      " 829 698 623 508 436 500 285  84 675 565 157 595 502 930 692 217 224  16\n",
      " 918 288 674   4 975 525 953 841 524  12 430 649 901 961 481 616 978 554\n",
      " 153 350  86 946 981 251 855 695  73 687 138 997 222 339 442  66 418 314\n",
      " 351 148 374 864 842 669 493 843  83 945 552 611 106 255 100 284 662 891\n",
      " 631   0 617 967 748 780 522 859 812   1  42 762 773 721 547 168 195 732\n",
      " 337  62 114 279 772 931 365 845 482 526  28  24 861 840 654  70 899 597\n",
      " 767 782 559 795 895 209 230 358 480 527 596 936  53 491 641 821 885 588\n",
      " 642 839 414 221 844 341 960 734 389 685 415 980 610 598 683 404 127 428\n",
      " 621 848 498 296 709  76 475 261 784 826 535 754 150 627 142 582 986 969\n",
      " 799 630 226 477 713 399 898 432 815 563 265 328  41 916  14 897 375 416\n",
      " 869   3 803 714 396 743 518 109 158 984 364 136 483  97 174 673 141 184\n",
      " 860 310  80 907 935 900 704 607 914 707  10 545 651 672 854 156  35 742\n",
      " 215 992 240 730 412 372 126 644 560 473 716 227 357 104 837 757 832 889\n",
      " 353 112  78  77 228 212 233 979 382 280  60 917 954 143 371 135 905 708\n",
      " 467 731 608 805 923 643 327 883 323 262 232 659 505 242 982 214 996 445\n",
      " 429 219 605  55 738 985 811 113  11 220 354  56 466 539 405 292 836 457\n",
      " 802 977 533 363 990 424 134 557 320 694 326 727 938 283 929 132 940  54\n",
      " 983 645 489 192  96 229 726  25 919 999 863 347 736 433 459 670 794 447\n",
      " 993 154 793 122 410 964 886 338 778 761  90 825 786 180 835 632  23 808\n",
      " 403 537 601 149 123 456 571 499 281 735 536 717 529 589 239 395 346 361\n",
      " 367 187 486 671 263 431 388 400 495 850 146 254 390 676 574 504 194  85\n",
      " 912  31  98 300 972  18 302 628 130 213 849 686 776 606 706 343 273 523\n",
      "  64 688 697  61  26 311 234  52 171 968 423 384 809 857  59 684  67 463\n",
      " 830 334 791 612 603 510 155 544 304 768 392 509  93 904 235 102 197 667\n",
      " 406 286 665 943 398 293 159 202 487  68 453 252 167 175 120 758 951 325\n",
      " 461 441 679 305 666 275 932 813 693 434  21 359 469 650 817 419 129 908\n",
      " 998 663 247 514 474 614 391 356 277 652 902 425 590 124 963 966 626 893\n",
      " 160 995  92 846 814 629 108 584 759 741 450 276 387  46 962 443 862 974\n",
      " 335 117 770 785 634 583 373  30 566 520 690 890 205 576 307 881 478 397\n",
      " 658 216 297  34 319 760  89 909 639 517 241 755 729 635 210 737  99 657\n",
      " 618 927 258  74 199 766 888 700 185 496 161 420   7 810 248 211 324 170\n",
      " 640 378 569  19 745  47 484 119 965 393 541 804 318 753 903  65 579 439\n",
      " 668 282 580 144  50 189 851 512  13 315 696 316 369 394 355 444 853  72\n",
      " 534 771   5 591 822 681   9 882 624 661 249 368 939 593 856 181 191 178\n",
      " 878 408 196 208 290 271 223 140 332 870 116  57 823 691 887 105 274 572\n",
      " 655 956 465 278 777  38 225 515 725 875 921 381 884 550 816 615 250 733\n",
      " 564 383 587 752 162 746 971 769  51 426 538 718 570 677 291 301 376 827\n",
      " 507 689  71 831 797 198 934 867 386 455 994 562 379 568 333 910 872 833\n",
      " 619 246 720 637  49 926 548 118 336 937 705 680 970 807 530 801 976 546\n",
      " 125 604 710 573 179 553 561 947  27 511 896 834 501 516 987 928 585 259\n",
      " 139 257 236 592 204 245 342 600 451 103 800 519 101 360 163 948 190 551\n",
      " 876 188 437 366 492 330 468 460 256 370 858  82 620 201 711 879 479 494\n",
      " 763  39  88 422 779 121 362 183 955 638 549 317 266  32 819 958 602 852\n",
      " 920 586 413 173 267 949 532 200 636 567 309 269 906 866 941 790 818 922\n",
      " 458  17 528 892  37 186 847 193  91 699  95 944 253 740 438 702 555 380\n",
      " 575 991 268 750 401 751 824 506 137 164 312  87 781 110 775 172 924 660\n",
      "  15 289 806 177 176 633 646 594  94  36 385 237 264 243 874 206 613 295\n",
      " 147 488 464 765   8 513 774 166 270  20 344 543 871 152   2 331 531  63\n",
      " 703 446 796  29 682 877 788 231 719 435 838 133 303 865 402 715 792 558\n",
      " 712 648 989  81 145 913 476 452 348 789]\n"
     ]
    }
   ],
   "source": [
    "# Create a rank 1 ndarray that contains a random permutation of the row indices of `X_norm`\n",
    "row_indices = np.random.permutation(X_norm.shape[0])\n",
    "print(row_indices)"
   ]
  },
  {
   "cell_type": "markdown",
   "metadata": {},
   "source": [
    "Now you can create the three datasets using the `row_indices` ndarray to select the rows that will go into each dataset. Rememeber that the Training Set contains 60% of the data, the Cross Validation Set contains 20% of the data, and the Test Set contains 20% of the data. Each set requires just one line of code to create. Fill in the code below"
   ]
  },
  {
   "cell_type": "code",
   "execution_count": 12,
   "metadata": {},
   "outputs": [],
   "source": [
    "# Make any necessary calculations.\n",
    "# You can save your calculations into variables to use later.\n",
    "\n",
    "\n",
    "# Create a Training Set\n",
    "X_train = X_norm[row_indices[0:600]]\n",
    "\n",
    "# Create a Cross Validation Set\n",
    "X_crossVal = X_norm[row_indices[600:800]]\n",
    "\n",
    "# Create a Test Set\n",
    "X_test = X_norm[row_indices[800:1000]]"
   ]
  },
  {
   "cell_type": "code",
   "execution_count": null,
   "metadata": {},
   "outputs": [],
   "source": [
    "If you performed the above calculations correctly, then `X_tain` should have 600 rows and 20 columns, `X_crossVal` should have 200 rows and 20 columns, and `X_test` should have 200 rows and 20 columns. You can verify this by filling the code below:"
   ]
  },
  {
   "cell_type": "code",
   "execution_count": 13,
   "metadata": {},
   "outputs": [
    {
     "name": "stdout",
     "output_type": "stream",
     "text": [
      "(600, 20)\n",
      "(200, 20)\n",
      "(200, 20)\n"
     ]
    }
   ],
   "source": [
    "# Print the shape of X_train\n",
    "print(X_train.shape)\n",
    "\n",
    "# Print the shape of X_crossVal\n",
    "print(X_crossVal.shape)\n",
    "\n",
    "# Print the shape of X_test\n",
    "print(X_test.shape)"
   ]
  },
  {
   "cell_type": "code",
   "execution_count": null,
   "metadata": {},
   "outputs": [],
   "source": []
  }
 ],
 "metadata": {
  "kernelspec": {
   "display_name": "Python 3",
   "language": "python",
   "name": "python3"
  },
  "language_info": {
   "codemirror_mode": {
    "name": "ipython",
    "version": 3
   },
   "file_extension": ".py",
   "mimetype": "text/x-python",
   "name": "python",
   "nbconvert_exporter": "python",
   "pygments_lexer": "ipython3",
   "version": "3.6.3"
  }
 },
 "nbformat": 4,
 "nbformat_minor": 2
}
